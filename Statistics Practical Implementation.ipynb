{
 "cells": [
  {
   "cell_type": "code",
   "execution_count": 2,
   "id": "b9e18b44",
   "metadata": {},
   "outputs": [],
   "source": [
    "import numpy as np\n",
    "import statistics\n",
    "import seaborn as sns\n",
    "import math\n",
    "import matplotlib.pyplot as plt\n",
    "import scipy.stats as stat\n",
    "import pylab\n"
   ]
  },
  {
   "cell_type": "code",
   "execution_count": 3,
   "id": "7c1effa2",
   "metadata": {},
   "outputs": [],
   "source": [
    "age =[23,24,45,32,12,56,34,23,87,90,46,24,34,46,123,100,23,45,67,89,98]"
   ]
  },
  {
   "cell_type": "code",
   "execution_count": 13,
   "id": "336f51f7",
   "metadata": {},
   "outputs": [
    {
     "data": {
      "text/plain": [
       "(53.38095238095238, 3)"
      ]
     },
     "execution_count": 13,
     "metadata": {},
     "output_type": "execute_result"
    }
   ],
   "source": [
    "np.mean(age),3"
   ]
  },
  {
   "cell_type": "code",
   "execution_count": 6,
   "id": "3d00e35b",
   "metadata": {},
   "outputs": [
    {
     "data": {
      "text/plain": [
       "45.0"
      ]
     },
     "execution_count": 6,
     "metadata": {},
     "output_type": "execute_result"
    }
   ],
   "source": [
    "np.median(age)"
   ]
  },
  {
   "cell_type": "code",
   "execution_count": 10,
   "id": "52fe0bed",
   "metadata": {},
   "outputs": [
    {
     "data": {
      "text/plain": [
       "45"
      ]
     },
     "execution_count": 10,
     "metadata": {},
     "output_type": "execute_result"
    }
   ],
   "source": [
    "statistics.median(age)"
   ]
  },
  {
   "cell_type": "code",
   "execution_count": 11,
   "id": "9f7a16aa",
   "metadata": {},
   "outputs": [
    {
     "data": {
      "text/plain": [
       "53.38095238095238"
      ]
     },
     "execution_count": 11,
     "metadata": {},
     "output_type": "execute_result"
    }
   ],
   "source": [
    "statistics.mean(age)"
   ]
  },
  {
   "cell_type": "code",
   "execution_count": 14,
   "id": "cd88d0fa",
   "metadata": {},
   "outputs": [
    {
     "data": {
      "text/plain": [
       "23"
      ]
     },
     "execution_count": 14,
     "metadata": {},
     "output_type": "execute_result"
    }
   ],
   "source": [
    "statistics.mode(age)"
   ]
  },
  {
   "cell_type": "code",
   "execution_count": 15,
   "id": "67a1942e",
   "metadata": {},
   "outputs": [
    {
     "name": "stderr",
     "output_type": "stream",
     "text": [
      "C:\\Users\\Lenovo\\anaconda3\\New folder\\lib\\site-packages\\seaborn\\_decorators.py:36: FutureWarning: Pass the following variable as a keyword arg: x. From version 0.12, the only valid positional argument will be `data`, and passing other arguments without an explicit keyword will result in an error or misinterpretation.\n",
      "  warnings.warn(\n"
     ]
    },
    {
     "data": {
      "text/plain": [
       "<AxesSubplot:>"
      ]
     },
     "execution_count": 15,
     "metadata": {},
     "output_type": "execute_result"
    },
    {
     "data": {
      "image/png": "[encoded data removed]",
      "text/plain": [
       "<Figure size 432x288 with 1 Axes>"
      ]
     },
     "metadata": {
      "needs_background": "light"
     },
     "output_type": "display_data"
    }
   ],
   "source": [
    "sns.boxplot(age)"
   ]
  },
  {
   "cell_type": "code",
   "execution_count": 22,
   "id": "59dfa26f",
   "metadata": {},
   "outputs": [],
   "source": [
    "q1,q3 = np.percentile(age,[25,75])"
   ]
  },
  {
   "cell_type": "code",
   "execution_count": 23,
   "id": "981277f7",
   "metadata": {},
   "outputs": [
    {
     "data": {
      "text/plain": [
       "(24.0, 87.0)"
      ]
     },
     "execution_count": 23,
     "metadata": {},
     "output_type": "execute_result"
    }
   ],
   "source": [
    "q1,q3"
   ]
  },
  {
   "cell_type": "code",
   "execution_count": 44,
   "id": "5fb516d1",
   "metadata": {},
   "outputs": [
    {
     "name": "stdout",
     "output_type": "stream",
     "text": [
      "-70.5 181.5\n"
     ]
    }
   ],
   "source": [
    "#to check outlier\n",
    "\n",
    "IQR = q3 - q1\n",
    "Lower_fence = q1 - 1.5*IQR\n",
    "Higer_fence = q3 + 1.5*IQR\n",
    "print(Lower_fence,Higer_fence)"
   ]
  },
  {
   "cell_type": "code",
   "execution_count": 45,
   "id": "534fef42",
   "metadata": {},
   "outputs": [
    {
     "data": {
      "text/plain": [
       "1030.4476190476191"
      ]
     },
     "execution_count": 45,
     "metadata": {},
     "output_type": "execute_result"
    }
   ],
   "source": [
    "statistics.variance(age)"
   ]
  },
  {
   "cell_type": "code",
   "execution_count": 46,
   "id": "aea67dd9",
   "metadata": {},
   "outputs": [
    {
     "data": {
      "text/plain": [
       "981.3786848072563"
      ]
     },
     "execution_count": 46,
     "metadata": {},
     "output_type": "execute_result"
    }
   ],
   "source": [
    "statistics.pvariance(age)"
   ]
  },
  {
   "cell_type": "code",
   "execution_count": 47,
   "id": "f8aeb208",
   "metadata": {},
   "outputs": [
    {
     "data": {
      "text/plain": [
       "31.326964181153212"
      ]
     },
     "execution_count": 47,
     "metadata": {},
     "output_type": "execute_result"
    }
   ],
   "source": [
    "math.sqrt(statistics.pvariance(age))"
   ]
  },
  {
   "cell_type": "code",
   "execution_count": 48,
   "id": "30909256",
   "metadata": {},
   "outputs": [
    {
     "data": {
      "text/plain": [
       "981.3786848072561"
      ]
     },
     "execution_count": 48,
     "metadata": {},
     "output_type": "execute_result"
    }
   ],
   "source": [
    "np.var(age,axis= 0)"
   ]
  },
  {
   "cell_type": "code",
   "execution_count": 49,
   "id": "bc0f9a35",
   "metadata": {},
   "outputs": [
    {
     "name": "stdout",
     "output_type": "stream",
     "text": [
      "981.3786848072561\n"
     ]
    }
   ],
   "source": [
    "#Population viraince\n",
    "\n",
    "def variance(data):\n",
    "    n = len(age)\n",
    "    mean = sum(data)/n\n",
    "    deviation  = [(x-mean)**2 for x in data]\n",
    "    variance = sum(deviation)/n\n",
    "    return variance\n",
    "print(variance(age))"
   ]
  },
  {
   "cell_type": "code",
   "execution_count": 50,
   "id": "2924b46c",
   "metadata": {},
   "outputs": [
    {
     "name": "stdout",
     "output_type": "stream",
     "text": [
      "980.3786848072561\n"
     ]
    }
   ],
   "source": [
    "#Sample viriance\n",
    "\n",
    "def variance(data):\n",
    "    n = len(age)\n",
    "    mean = sum(data)/n\n",
    "    deviation  = [(x-mean)**2 for x in data]\n",
    "    variance = sum(deviation)/n-1\n",
    "    return variance\n",
    "print(variance(age))"
   ]
  },
  {
   "cell_type": "code",
   "execution_count": 51,
   "id": "87081ee8",
   "metadata": {},
   "outputs": [
    {
     "name": "stdout",
     "output_type": "stream",
     "text": [
      "981.3786848072561\n"
     ]
    }
   ],
   "source": [
    "def variance(data, dof = 0):\n",
    "    n = len(age)\n",
    "    mean = sum(data)/n\n",
    "    deviation = [(x-mean)**2  for x in data]\n",
    "    variance = sum(deviation)/(n-dof)\n",
    "    return variance\n",
    "print(variance(age))\n",
    "\n",
    "\n"
   ]
  },
  {
   "cell_type": "code",
   "execution_count": 52,
   "id": "05894996",
   "metadata": {},
   "outputs": [
    {
     "name": "stdout",
     "output_type": "stream",
     "text": [
      "<function variance at 0x0000018F0A33F280>\n"
     ]
    }
   ],
   "source": [
    "def variance(data, dof= 1):\n",
    "    n = len(age)\n",
    "    mean = sum(data)/n\n",
    "    deviation = [(x-mean)**2 for x in data]\n",
    "    varinace = sum(deviation)/(n-dof)\n",
    "    return variance\n",
    "print(variance(age))"
   ]
  },
  {
   "cell_type": "code",
   "execution_count": 53,
   "id": "553d321e",
   "metadata": {},
   "outputs": [
    {
     "data": {
      "text/plain": [
       "<AxesSubplot:ylabel='Count'>"
      ]
     },
     "execution_count": 53,
     "metadata": {},
     "output_type": "execute_result"
    },
    {
     "data": {
      "image/png": "[encoded data removed]",
      "text/plain": [
       "<Figure size 432x288 with 1 Axes>"
      ]
     },
     "metadata": {
      "needs_background": "light"
     },
     "output_type": "display_data"
    }
   ],
   "source": [
    "sns.histplot(age, kde = True)"
   ]
  },
  {
   "cell_type": "code",
   "execution_count": 54,
   "id": "0365ffb7",
   "metadata": {},
   "outputs": [],
   "source": [
    "s = np.random.normal(0.5,0.2,1000)"
   ]
  },
  {
   "cell_type": "code",
   "execution_count": 55,
   "id": "7e5b62e1",
   "metadata": {},
   "outputs": [
    {
     "data": {
      "text/plain": [
       "array([ 0.54940527,  0.41520446,  0.41933265,  0.36028387,  0.34495498,\n",
       "        0.79575821,  0.44812231,  0.58208776,  0.34684088,  0.20356986,\n",
       "        0.72140996,  0.25219089,  0.56341335,  0.57406777,  0.57781599,\n",
       "        0.7112041 ,  0.72515005,  0.67209319,  0.45077225,  0.80468303,\n",
       "        0.35758035,  0.31905578,  0.66684977,  0.44732761,  0.55970916,\n",
       "        0.63840762,  0.48712723,  0.44714056,  0.35324377,  0.46173924,\n",
       "        0.21844048,  0.26458496,  0.72829487,  0.57857079,  0.55098287,\n",
       "        0.31488219,  0.4048893 ,  0.4207452 ,  0.52110341,  0.3384839 ,\n",
       "        0.56449362,  0.66726287,  0.6028478 ,  0.2348257 ,  0.41665533,\n",
       "        0.75272678,  0.2564054 ,  0.24196435,  0.65815807,  0.9637468 ,\n",
       "        0.71371943,  0.25663083,  0.43801761,  0.53995361,  0.45252674,\n",
       "        0.55987599,  0.3639842 ,  0.42985801,  0.56026568,  0.65054806,\n",
       "        0.46949379,  0.27395846,  0.84109696,  0.45628488,  0.252014  ,\n",
       "        0.34280113,  0.51990891,  0.65576122,  0.51052487,  0.33934792,\n",
       "        0.32435407,  0.70324823,  0.38943435,  0.53805866,  0.86609875,\n",
       "        0.60511974,  0.75072632,  0.59105366,  0.19107261,  0.55369944,\n",
       "        0.63120258,  0.56249161,  0.42878539,  0.53099223,  0.38265963,\n",
       "        0.43575809,  0.60062172,  0.73133993,  0.51011856,  0.41623877,\n",
       "        0.14525382,  0.55161446,  0.85250211,  0.53490714,  0.6097534 ,\n",
       "        0.28721102,  0.37095652,  1.12576639,  0.39515563,  0.37347265,\n",
       "        0.61796247,  0.44442059,  0.72847259,  0.39697745,  0.52141742,\n",
       "        0.22848072,  0.58010568,  0.31888275,  0.37610417,  0.67863161,\n",
       "        0.68515383,  0.27682185,  0.39942867,  0.6267319 ,  0.32744357,\n",
       "        0.29483073,  0.53779189,  0.27999452,  0.64266444,  0.27432735,\n",
       "        0.24916579,  0.39641963,  0.78503991,  0.51988489,  0.69675364,\n",
       "        0.69164903,  0.46911143,  0.48296471,  0.46408432,  0.17501324,\n",
       "        0.23877628,  0.82367446,  0.40492026,  0.56101608,  0.93118375,\n",
       "        0.44046157,  0.67185504,  0.48413582,  0.34012616,  0.74639698,\n",
       "        0.56168087,  0.51746247,  0.41988929,  0.62072303,  0.26492851,\n",
       "        0.46293154,  0.61410401,  0.61021467,  0.49077436,  0.14811003,\n",
       "        0.41636974,  0.63854937,  0.50498076,  0.74780607,  0.82053577,\n",
       "        0.59799842,  0.73342899,  0.65156388,  0.80620708,  0.87581245,\n",
       "        0.4232968 ,  0.75552263,  0.66960812,  0.78204581,  0.42494734,\n",
       "        0.50553938,  0.44151686,  0.37093138,  0.57791818,  0.59766559,\n",
       "        0.58939658,  0.39681335,  0.2949676 ,  0.33508747,  0.36610641,\n",
       "        0.52673311,  0.37666159,  0.73949794,  0.72239336,  0.47234201,\n",
       "        0.31283363,  0.97225947,  0.16005605,  0.71434119,  0.05667532,\n",
       "        0.40037486,  0.39472144,  0.74401762,  0.78921542,  0.2468185 ,\n",
       "        0.34001364,  0.53482579,  0.70089205,  0.86272959,  0.22066557,\n",
       "        0.57950021,  0.2996336 ,  0.5429829 ,  0.69788065,  0.55842237,\n",
       "        0.67806916,  0.76072232,  0.66823877,  0.58557878,  0.29216326,\n",
       "        0.53431434,  0.67348553,  0.532817  ,  0.32408972,  0.25717563,\n",
       "        0.22577657,  0.13718084,  0.51219591, -0.03387655,  0.26147007,\n",
       "        0.48337739,  0.42334884,  0.30393189,  0.61710465,  0.40426505,\n",
       "        0.5397999 ,  0.52399386, -0.04111369,  0.51349839,  0.23531909,\n",
       "        0.39929634,  0.48356456,  0.47390653,  0.45956292,  0.7816413 ,\n",
       "        0.47941868,  0.50758685,  0.57231663,  0.52169038,  0.48903956,\n",
       "        0.65359068,  0.33892244,  0.46380335,  0.57869923,  0.38506686,\n",
       "        0.44840951,  0.41291453,  0.40901212,  0.43481163,  0.4713233 ,\n",
       "        0.44778315,  0.55400276,  0.19754487,  0.77860335,  0.16171886,\n",
       "        0.60133724,  0.31586772,  0.28880459,  0.33606762,  0.17690359,\n",
       "        1.10223607,  0.57353242,  0.25986646,  0.68449909,  0.30554308,\n",
       "        0.29056675,  0.68114009,  0.1347428 ,  0.47312623,  0.70056488,\n",
       "        0.62309286,  0.54331051,  0.37413684,  0.43063652,  0.3787303 ,\n",
       "        0.80318138,  0.7026634 ,  0.41711154,  0.41023233,  0.44809039,\n",
       "        0.5180396 ,  0.32486563,  0.44103354,  0.61400843,  0.63199118,\n",
       "        0.48704437,  0.33508108,  0.11829533,  0.31828236,  0.82419633,\n",
       "        0.65650976,  0.27146612,  0.23720052,  0.19232919,  0.57319659,\n",
       "        0.44778525,  0.30198574,  0.37429132,  0.39518982,  0.38329345,\n",
       "        0.65107741,  0.64022109,  0.38842284,  0.64506286,  0.55237827,\n",
       "       -0.06930571,  0.71347421,  0.38747652,  0.42676336,  0.3225378 ,\n",
       "        0.59912456,  0.2121271 ,  0.64615514,  0.51862341,  0.43320122,\n",
       "        0.63532045,  0.52855431,  0.55120791,  0.29864829,  0.70193101,\n",
       "        0.66063759,  0.33183309,  0.53530962,  0.38514105,  0.65331327,\n",
       "        0.5992505 ,  0.25740956,  0.36621018,  0.78004115,  0.57602622,\n",
       "        0.5466197 ,  0.5768185 ,  0.53465838,  0.06643877,  0.80181972,\n",
       "        0.56875732,  0.67352923,  0.50531567,  0.65401351,  0.35021972,\n",
       "        0.57989773,  0.23179112,  0.64233256,  0.49394194,  0.28104128,\n",
       "        0.74806511,  0.55286307,  0.82488838,  0.65961463,  0.14735538,\n",
       "        0.49613041,  0.35330227,  0.4658597 ,  0.35370368,  0.72661132,\n",
       "        0.74678108,  0.56811831,  0.69482393,  0.45268105,  0.32502712,\n",
       "        0.49648116,  0.53310401,  0.26574173,  0.87211614,  0.26592161,\n",
       "        0.65646183,  0.60624474,  0.10840419,  0.42450381,  0.58699006,\n",
       "        0.39072367,  0.6252704 ,  0.66914915,  0.8800969 ,  0.63654387,\n",
       "        0.4693066 ,  0.59474835,  0.0830788 ,  0.54247695,  0.67982891,\n",
       "        0.6783562 ,  0.16722531,  0.56951654,  0.802755  ,  0.19700572,\n",
       "        0.55777533,  0.08360672,  0.62474025,  0.48483142,  0.29168355,\n",
       "        0.25858573,  0.6889551 ,  0.78147389,  0.21645137,  0.58276005,\n",
       "        0.4951648 ,  0.50227251,  0.76466473,  0.25956179,  0.63376777,\n",
       "        0.34260548,  0.25238358,  0.61279184,  0.49248968,  0.48131703,\n",
       "        0.48138716,  0.34973888,  0.61465089,  0.43434039,  0.6403036 ,\n",
       "        0.98098512,  0.54442986,  0.71260724,  0.31043303,  0.47720797,\n",
       "        0.34494769,  0.89469065,  0.29049867,  0.358385  ,  0.64882934,\n",
       "        0.40516823,  0.17622284,  0.1647175 ,  0.43008822,  0.9941986 ,\n",
       "        0.49713245,  0.25425169,  0.61121179,  0.8051732 ,  0.4254279 ,\n",
       "        0.13953251,  0.33748978,  0.60329581,  0.77768572,  0.44629524,\n",
       "        0.64309264,  0.25344   ,  0.82295719,  0.50634368,  0.41650541,\n",
       "        0.78690071,  0.65648854,  0.65422235,  0.58230622,  0.83530553,\n",
       "        0.51707334,  0.63656162,  0.54942167,  0.36037305,  0.58806929,\n",
       "        0.08139122,  0.53656485,  0.83689023,  0.5628014 ,  0.3711726 ,\n",
       "        0.0735483 ,  0.33203874,  0.46066464,  0.29197607,  0.85551535,\n",
       "        0.94343405, -0.06422802,  0.1622716 ,  0.41319908,  0.61298526,\n",
       "        0.63331403,  0.53355131,  0.74967948,  0.42753835,  0.54954268,\n",
       "        0.42965755,  0.37300446,  0.76647584,  0.69681912,  0.35853297,\n",
       "        0.77965415,  0.56819469,  0.68117162,  0.39848275,  0.49923346,\n",
       "        0.59219375,  0.38528864,  0.30766119,  0.3907596 ,  0.39506885,\n",
       "        0.45804568,  0.5961401 ,  0.48728495,  0.79318482,  0.76073304,\n",
       "        0.57820527,  0.5991424 ,  0.940475  ,  0.77960051,  0.2470849 ,\n",
       "        0.42470984,  0.32887893,  0.36460046,  0.4828419 ,  0.40509619,\n",
       "        0.72127522,  0.38293111,  0.55510611,  0.44802267,  0.63117881,\n",
       "        0.50884097,  0.04826747,  0.56164431,  0.66710726,  0.03106652,\n",
       "        0.31799961,  0.68110887,  0.32563305,  0.33460179,  0.41780413,\n",
       "        0.38648817,  0.77035833,  0.42190658,  0.62599465,  0.43646715,\n",
       "        0.03405807,  0.72318382,  0.51492918,  0.59505343,  0.50384489,\n",
       "        0.78374191,  0.30989804,  0.77075809,  0.62030522,  0.20546629,\n",
       "        0.38486642,  0.06044418,  0.26598397,  0.93802595,  0.71339408,\n",
       "        0.63528833,  0.69925648,  0.52314654,  0.47089897,  0.3545313 ,\n",
       "        0.44786477,  0.606203  ,  0.55410714,  0.54661286,  0.60161699,\n",
       "        0.38913741,  0.33353738,  0.44045959,  0.62782449,  0.65991797,\n",
       "        1.00808346,  0.54496819,  0.59785709,  0.65387908,  0.68565189,\n",
       "        0.43674169,  0.69366233,  0.70691035,  0.4550136 ,  0.58996271,\n",
       "        0.08902307,  0.37705735,  0.39095004,  0.63456165,  0.35684139,\n",
       "        0.5048896 ,  0.19566804,  0.29271637,  0.35596648,  0.61060683,\n",
       "        0.42708683,  0.38958487,  0.78724684,  0.67669568,  0.45828993,\n",
       "        0.63065102,  0.64459886,  0.47550415,  0.99181539,  0.7380506 ,\n",
       "        0.3903307 ,  0.62629828,  0.48436986,  0.560738  ,  0.51538854,\n",
       "        0.58025894,  0.78312383,  0.58175269,  0.66429861,  0.8124064 ,\n",
       "        0.70844009,  0.83694578,  0.54307201,  0.42231463,  0.7135137 ,\n",
       "        0.63094372,  0.44940087,  0.1287935 ,  0.5459232 ,  0.53196314,\n",
       "        0.14100205,  0.34487096,  0.23136171,  0.40799769,  0.49956925,\n",
       "        0.73956638,  0.24477777,  0.31067728,  0.67759617,  0.59150171,\n",
       "        0.2887801 ,  0.57981417,  0.07839187,  0.57152948,  0.67470714,\n",
       "        0.38535836,  0.49890137,  0.22483084,  0.18956471,  0.84991693,\n",
       "        0.90582522,  0.22449828, -0.07134741,  0.52961139,  0.76520847,\n",
       "        0.47081585,  0.45599783,  0.15001966,  0.54885402,  0.26648367,\n",
       "        0.60818189,  0.43192154,  0.37592463,  0.59333554,  0.3852118 ,\n",
       "        0.18939121,  0.53805797,  0.40111379,  0.50769154,  0.56327978,\n",
       "        0.53248349,  0.49236218,  0.48687829,  0.08186731,  0.27079713,\n",
       "        0.77276578,  0.41682644,  0.80096008,  0.33842613,  0.56082407,\n",
       "        0.34847035,  0.68767362,  0.75814209,  0.8245405 ,  0.70847071,\n",
       "        0.58052864,  0.92209604,  0.72129842,  0.83980956,  0.25654367,\n",
       "        0.47939578,  0.52770874,  0.21603393,  0.80884093,  0.54719354,\n",
       "        0.22325615,  0.44759618,  0.5923734 ,  0.24556266,  0.30343943,\n",
       "        0.5291649 ,  0.4681168 ,  0.56524885,  0.45212739,  0.65606867,\n",
       "        0.72656386,  0.48862943,  0.37322801,  0.73720666,  0.46762583,\n",
       "        0.34391731,  0.45003147,  0.74085919,  0.76801595,  0.13925571,\n",
       "        0.70569007,  0.28734972,  0.21798715,  0.82189123,  0.55611977,\n",
       "        0.71671077,  0.43013522,  0.56383166,  0.47890344,  0.59544072,\n",
       "        0.71519306,  0.44630496,  0.55025536,  0.38631846,  0.57159547,\n",
       "        0.28460376,  0.49469688,  0.0965306 ,  0.59262401,  0.60968737,\n",
       "        0.81963121,  0.78603312,  0.5965185 ,  0.38257999,  0.80046869,\n",
       "        0.853409  ,  0.64809924,  0.4841178 ,  0.1547603 ,  0.76940602,\n",
       "        0.77060102,  0.11763927,  0.69774467,  0.5664765 ,  0.39284377,\n",
       "        0.09925725,  0.51887325,  0.3942655 ,  0.52228909,  0.25372384,\n",
       "        0.32919185,  0.15757776,  0.50210504,  0.48667213,  0.41820179,\n",
       "        0.45567787,  0.49618072,  0.51547297,  0.47225083,  0.16967026,\n",
       "        0.44624617,  0.49927246,  0.49373198,  0.56235357,  0.61395486,\n",
       "        0.32055319,  0.37593655,  0.68772838,  0.60468552,  0.31601483,\n",
       "        0.39585393,  0.22859925,  0.91451406,  0.63654435,  0.57742545,\n",
       "        0.40770499,  0.20169148,  0.77292561,  0.52020754,  0.25337088,\n",
       "        0.59370996,  0.5840071 ,  0.08823128,  0.36370746,  0.22328083,\n",
       "        0.6302549 ,  0.57410892,  0.53918397,  0.25342686,  0.3880752 ,\n",
       "        0.66993043,  0.52074746,  0.59417393,  0.53134796,  0.57791997,\n",
       "        0.64935287,  0.11993266,  0.41614629,  0.52149993,  0.55392271,\n",
       "        0.4144186 ,  0.13250956,  0.70166608,  0.60982503,  0.42362309,\n",
       "        0.6583427 ,  0.37017067,  0.70206743,  0.13251291,  0.66166782,\n",
       "        0.49646275,  0.18557461,  1.00528305, -0.01276118,  0.33103921,\n",
       "        0.28688677,  0.49947087,  0.33804385,  0.79883783,  0.17484665,\n",
       "        0.52444076,  0.31654997,  0.5646776 ,  0.39062761,  0.53578143,\n",
       "        0.5178509 ,  0.5972899 ,  0.17864717,  0.48771102,  0.20492496,\n",
       "        0.33241242,  0.65844222,  0.97171253,  0.46843763,  0.53085149,\n",
       "        0.24880096,  0.31336583,  0.14847866,  0.47578892,  0.49698234,\n",
       "        0.75447651,  0.38588928,  0.2138307 ,  0.39757602,  0.41700736,\n",
       "        0.81409422,  0.66366851,  0.5888783 ,  0.34103859,  0.47708568,\n",
       "        0.40421682,  0.61019622,  0.08211758,  0.2231862 ,  0.31478472,\n",
       "        0.69844119,  0.11893616,  0.70428424,  0.49432546,  0.44643301,\n",
       "        0.17849578,  0.75438526,  0.0524815 ,  0.04389657,  0.57267067,\n",
       "        0.67987036,  0.45857688,  0.54250363,  0.61888966,  0.68792933,\n",
       "        0.46398733,  0.71779224,  0.43992406,  0.45186155,  0.76483571,\n",
       "        0.55567447,  0.99564584,  0.46792693,  0.73119841,  0.43955538,\n",
       "        0.67752068,  0.35277772,  0.83557293,  0.48199334,  0.71199157,\n",
       "        0.52603069,  0.4419233 ,  0.47516626,  0.47864579,  0.90106484,\n",
       "        0.42264593,  0.25247046,  0.09533752,  0.29746295,  0.76369003,\n",
       "        0.41407237,  0.65277579,  0.66492687,  0.45919561,  0.55937457,\n",
       "        0.61943326,  0.36970388,  0.27696699,  1.01003369,  0.78121117,\n",
       "        0.61979303,  0.65495735,  0.33063765,  0.63924043,  0.63865489,\n",
       "        0.43573039,  0.41174445,  0.70838888,  0.17419718,  0.77198542,\n",
       "        0.39263108,  0.70766304,  0.77289792,  0.63760188,  0.65375438,\n",
       "        0.66058029,  0.54053241,  0.5751272 ,  0.44741473,  0.70741535,\n",
       "        0.64178243,  0.23082283,  0.37817842,  0.36701773,  0.38233355,\n",
       "        0.54398496,  0.50324418,  0.58586802,  0.70936346,  1.10714045,\n",
       "        0.65945231,  0.84727094,  0.56405358,  0.18310148,  0.75498461,\n",
       "        0.48296703,  0.57254783,  0.16300126,  0.72017811,  0.45388149,\n",
       "        0.6388916 ,  0.90667397,  0.69598609,  0.78404132,  0.02094184,\n",
       "        0.2702656 ,  0.66425162,  0.70366563,  0.05295817,  0.63894312,\n",
       "        0.34510161,  0.456395  ,  0.55955468,  0.45132297,  0.4984839 ,\n",
       "        0.5547895 ,  0.55857015,  0.45290183,  0.4868791 ,  0.36085482,\n",
       "        0.57078747,  0.30864064,  0.39662216,  0.38850401,  0.44901551,\n",
       "        0.59524387,  0.3887513 ,  0.34461995,  0.35943628,  0.29169691,\n",
       "        0.62929227,  0.73260056,  0.74998243,  0.35349088,  0.35253225,\n",
       "        0.47239715,  0.1611732 ,  0.47022647,  0.8786207 ,  0.27164683,\n",
       "        0.50235559,  0.41278702,  0.24733552,  0.37257495,  0.61841137,\n",
       "        0.62447551,  0.30575192,  0.47570642,  0.52301151,  0.32691804,\n",
       "        0.1710587 ,  0.42742716,  0.27234317,  0.58075144,  0.57452115,\n",
       "        0.70890863,  0.33042742,  0.26338706,  0.75822508,  0.3288823 ,\n",
       "        0.18678324,  0.5402211 ,  0.62769373,  0.49018072,  0.40679374,\n",
       "        0.46264956,  0.56312067,  0.34093849,  0.41659954,  0.76515131,\n",
       "        0.44835737,  0.70429922,  0.58612788,  0.58737394,  0.58344675,\n",
       "        0.22770622,  0.63261704, -0.08762245,  0.24881144,  0.68712874,\n",
       "        0.50807875,  0.53449905,  0.45131595,  0.32232428,  0.71568652])"
      ]
     },
     "execution_count": 55,
     "metadata": {},
     "output_type": "execute_result"
    }
   ],
   "source": [
    "s"
   ]
  },
  {
   "cell_type": "code",
   "execution_count": 57,
   "id": "26ce18b9",
   "metadata": {},
   "outputs": [
    {
     "data": {
      "text/plain": [
       "<AxesSubplot:ylabel='Count'>"
      ]
     },
     "execution_count": 57,
     "metadata": {},
     "output_type": "execute_result"
    },
    {
     "data": {
      "image/png": "[encoded data removed]",
      "text/plain": [
       "<Figure size 432x288 with 1 Axes>"
      ]
     },
     "metadata": {
      "needs_background": "light"
     },
     "output_type": "display_data"
    }
   ],
   "source": [
    "sns.histplot(s,kde = True)"
   ]
  },
  {
   "cell_type": "code",
   "execution_count": 61,
   "id": "32e452ba",
   "metadata": {},
   "outputs": [],
   "source": [
    "mu,sigma = 3,1\n",
    "s1 = np.random.lognormal(mu,sigma,1000)"
   ]
  },
  {
   "cell_type": "code",
   "execution_count": 62,
   "id": "29d69c1a",
   "metadata": {},
   "outputs": [
    {
     "data": {
      "text/plain": [
       "array([ 27.9768345 ,  35.01031614,  49.22898926,  28.15170325,\n",
       "         0.98999152,  63.03433507,   7.8635772 ,  16.1129702 ,\n",
       "         3.63023244,  23.83790631,   2.36302757,  12.56104784,\n",
       "         9.25348335,  10.29914544,  11.82624306,  41.26647968,\n",
       "         2.99671036,  17.12059942, 109.54184606, 142.64515691,\n",
       "       628.74596913,   6.6453013 ,  12.81963049,  15.97772263,\n",
       "        30.25094637,   2.94420237,  52.6318584 ,  19.06986342,\n",
       "        52.88426284,  56.83682954,  34.80034756,   1.773061  ,\n",
       "        13.73028862,  27.79717564,   3.07957157,  28.91713958,\n",
       "         2.85527755,   7.14136448,  23.42354234,  46.1601907 ,\n",
       "         7.74480279,  38.56564177,   4.16574007,  95.72668312,\n",
       "        26.36482096,  39.62358841,  28.56326117,  26.81564558,\n",
       "        31.6730458 ,  15.76309818,  11.01032826,   5.06671061,\n",
       "         0.73625738,  17.14149523,  10.34117376,  13.53400382,\n",
       "        56.50861301,  12.53341133,  13.02280231,  11.97115104,\n",
       "         8.68443246,   2.79946623,  23.18433794,   6.00496594,\n",
       "        22.26406144,   6.10231287,   2.86336242, 137.42373645,\n",
       "         7.21363307,  12.65661582,  21.29767098,   5.34271135,\n",
       "        61.27452325,  13.80797813,   4.91419836,  49.47730211,\n",
       "        47.31784898,   6.35136095,  28.81516215,  78.26595247,\n",
       "        22.58830601,  52.04735119,  38.09611338,  24.03014326,\n",
       "         9.7411897 ,   6.62537809,  49.36672677,  19.57316956,\n",
       "         4.08258198,   6.32176902,   8.39155676,  32.67377607,\n",
       "        20.44250465,  10.26915478,  56.0764687 ,   2.13118802,\n",
       "       233.71103365,  11.41362962,  23.23263411,  28.95787642,\n",
       "         5.96851368,   3.56149407,  16.71456297,   9.56734216,\n",
       "        15.59033502,  29.19356069, 147.86054807,  10.0662063 ,\n",
       "        19.60394115,   7.39384224,  71.28224635,  25.49914236,\n",
       "         4.00037111,  89.53918491,  28.66052066,  15.2182928 ,\n",
       "        11.50959148,  13.12520614,  47.29370084,  83.48457552,\n",
       "        14.87847435,  33.41347651,  55.91372688,  36.07593263,\n",
       "        25.20776592,  19.13463632,   4.64658417,  17.62865886,\n",
       "        64.11643843,  30.29693738,  41.36894196,  18.59969709,\n",
       "        18.76597337,  21.5837308 ,  73.20102565,   1.33366175,\n",
       "        68.13493434,  50.42073738,  78.36666545,  10.66315635,\n",
       "        15.47698181,  18.89488743,   5.38321744, 155.12170483,\n",
       "        12.69901293,  37.72712844,  91.19342851,  47.08751298,\n",
       "        95.82603633, 187.09087831,   3.51502858,  11.80865757,\n",
       "        23.79055742,  26.02436879,   4.97711261,   3.12303981,\n",
       "        14.35464355,  15.20047765,  51.21630111,   8.54758248,\n",
       "        16.583866  ,   1.82655685,  19.8798801 ,   9.10520537,\n",
       "        42.48097698,  31.5065594 , 143.00272214,  20.17945963,\n",
       "        11.81133549,  25.77932241,  87.79927629,  48.4171675 ,\n",
       "        16.7437308 ,  12.22086093,  21.8216789 ,  14.25090862,\n",
       "         6.91109173,  19.13602653,  23.89709136,   7.74707315,\n",
       "         9.03469205,  16.29735064,  18.95150515,  21.25718359,\n",
       "        29.60595675,   6.220243  ,  12.8373417 ,  23.23997194,\n",
       "        11.18989439,  88.4962388 ,  18.26209301,  18.63720552,\n",
       "         7.58350014,  26.75518698,  15.22599096,  22.06030264,\n",
       "         6.22347471,  15.36726623,   9.29220091,  23.57422042,\n",
       "        21.02769121,   2.82661037,  76.12166223,  11.95006913,\n",
       "        34.70093777,  62.46531799,  65.43824981,  31.41267057,\n",
       "        47.84743858,  10.13895453,  12.04876691,  18.48929655,\n",
       "        40.53978839,  37.46995225,  27.33479687,  90.27152169,\n",
       "         5.69995454,  69.10196011,  57.93966434,   8.05038827,\n",
       "        17.35571474,   5.73903322,  51.11799883,  30.62233363,\n",
       "        75.25078665,  12.28650012,  77.26547396,  25.19279427,\n",
       "         6.71690159,  14.73696243,  32.39174124,   2.42497425,\n",
       "        25.06518219,  22.08170135,  11.9507605 ,  13.9045623 ,\n",
       "        30.46556291,  33.30265107,  17.2419391 ,  13.87324229,\n",
       "        29.41038365,  30.88035106,  21.3578162 ,  58.31659636,\n",
       "        22.01307371, 153.96465122,  39.4888484 ,   4.39908458,\n",
       "        13.9324146 ,  10.21625282,  12.15631938,  21.92833241,\n",
       "        19.06896495,  16.44274703, 179.29680434,  45.95653437,\n",
       "        17.67298032,  27.98871809, 523.44680017, 216.85456215,\n",
       "        15.94544821,   6.62320222,  18.65709804,  50.19254113,\n",
       "         4.41143124,  33.69567625,  97.56285672,  19.54185044,\n",
       "         2.95480299,   6.97094751,  17.80501999,  18.47263364,\n",
       "        13.92984628,  13.79602084,   5.20620641,  87.31899854,\n",
       "         6.93806089,  12.41904997,  13.70713834,  16.01552281,\n",
       "        15.39221491,   4.1098728 ,  52.53660421,   5.79626894,\n",
       "        22.29076029,  14.03963433,   7.73401184,   2.1060424 ,\n",
       "        24.3994535 , 102.20961   ,  11.0396004 ,  16.5689857 ,\n",
       "        32.44407731,  22.59561894,  13.36858611,   7.94539927,\n",
       "        37.39519555,  34.96662115,   7.13657839,   5.93941403,\n",
       "        23.06923442,  37.73081413,  32.21352173,   4.16213336,\n",
       "        29.09162645,   9.73996247,  72.53383773,  10.60993681,\n",
       "        75.99633453,  12.14036041,  17.24831476,  11.47359725,\n",
       "        13.48828626,  37.95410371,  49.24170629,   4.77479411,\n",
       "        16.45411477,  12.0439732 ,  28.19407749,  21.47739443,\n",
       "         9.76602839,  14.17625128,  56.71405946,   7.84586536,\n",
       "       230.43644549, 198.2916381 ,  14.96750246,  19.84225364,\n",
       "        10.9629288 ,   6.91519739,  10.61819254,  73.31217456,\n",
       "         4.48005805,  72.88213245,   5.31376232,  15.20947252,\n",
       "        23.12095846,   2.13700711,  29.74830857,   3.27226819,\n",
       "        23.32465626,  23.83577655,  14.2065818 ,  38.50429811,\n",
       "         9.2915966 ,  80.52114769,  18.91830458,  34.24856332,\n",
       "        88.74982614,  15.96141397,  70.73411874,  53.52336127,\n",
       "        26.30642885, 457.91857459,  27.79523829, 106.83387889,\n",
       "         4.13229236,  18.37526341,  41.95802848,   7.47716178,\n",
       "         5.2852939 ,  14.38470444,  11.93108771,   4.21246621,\n",
       "         5.33763146,  87.59395986,  78.1204563 ,  16.39984633,\n",
       "        57.37840357,  28.7057717 ,   3.11978417,  16.90285344,\n",
       "        48.16988262,   2.35270847,   6.90684895, 118.91997825,\n",
       "        15.1966576 ,  83.93930501,  25.08252113,   2.69711147,\n",
       "        72.35729304,   8.51574112,  12.70942863,  77.65792114,\n",
       "        11.74208101,   9.68541314,  30.40533082,  10.25301365,\n",
       "        25.87696469,  12.40816616,  82.08238291,  11.36337357,\n",
       "        61.15177481,  19.44202487,   6.83923312,  15.11009422,\n",
       "        19.65543678,  14.400202  ,  10.16684818,  12.95883126,\n",
       "       136.03460932,  10.47359961,  71.41349352,  46.38481524,\n",
       "         9.73057978, 158.3591092 ,  86.95120091,  89.28778214,\n",
       "        24.51389366,   5.66986265,  40.06517322, 148.61820664,\n",
       "        27.13237589,   8.10661536,  21.66655342,   2.92224495,\n",
       "        31.26894723,  47.97834311,  18.16238987,  83.94536773,\n",
       "        18.45036592, 271.06900775,  13.48448009,  19.29873024,\n",
       "        26.11112553,  27.93525491,  17.21740259,  19.22871636,\n",
       "        84.11356129,  38.81553073,  14.14532125,  40.1819147 ,\n",
       "         3.91831288,  17.7523508 ,  81.74681249,  64.84692214,\n",
       "        33.5037277 ,   5.52590165,  23.76876547,   7.21859753,\n",
       "        41.84019262,  29.36209843,  12.33365625,   3.95963022,\n",
       "        51.31137734,   2.94275397,  24.36531214,  15.26159827,\n",
       "         8.50427151,  16.03474148,  12.35950057,  64.24468722,\n",
       "        12.61852592,  11.16988431,  57.02582236,  54.46918423,\n",
       "        46.46172795,   2.50177106,  48.47094702, 122.32115079,\n",
       "        28.08994374,  65.41883951,  82.29035702,  33.57306807,\n",
       "        12.62213483,   4.49333959,  18.17820836,  12.36638075,\n",
       "        47.19840318,  16.44195136,  29.20799183,   9.53154143,\n",
       "        12.77647172, 117.74829068, 212.09610797,   3.14272456,\n",
       "        21.36758272,  15.43288245,  78.15029825,  24.01072379,\n",
       "        25.5677649 ,  38.17272926,   7.63997094,  96.58975667,\n",
       "        43.24648275,  48.36084714,  21.20976368,   7.91124304,\n",
       "        90.29560339,  23.11024114,  12.12715271,  10.99152147,\n",
       "       117.51783744,   2.1604715 ,  22.31312448,  28.86354568,\n",
       "        14.09057155,  20.96559079,   2.48295933,   7.7579814 ,\n",
       "         7.73755533,  12.84420553,   7.89326695,  12.36439341,\n",
       "         9.89303983,  28.00530645,  12.79048662,   8.06559195,\n",
       "        49.16403158,  19.24543541,  12.59952921,  23.0300319 ,\n",
       "        18.78527475,  15.45278671,  35.55802348,  88.19452955,\n",
       "         5.21773146,  13.00844325,  25.27882   ,   7.31527372,\n",
       "        71.82708841,  74.66154661,  13.80441234,  13.17701903,\n",
       "         4.67606579,  10.51898292,  31.81792866,  14.95529579,\n",
       "       132.50496332,  40.12492013,  20.27223531,  23.47009113,\n",
       "        78.37379137,  69.13945075,  31.9995219 ,   4.67487495,\n",
       "         2.21291683,  17.86209723,  42.28558782,  12.14503292,\n",
       "        78.08268863,   4.18582142,  12.12560491,  68.13553189,\n",
       "         6.37372807,  29.88052665,  23.4786285 , 101.13537994,\n",
       "        66.48880878,  33.73071925,  27.6429497 ,  11.76492311,\n",
       "         8.66295302,  18.45571472,  20.08836915,   1.97257056,\n",
       "        41.10612967,   7.93252292,  13.05610381,  10.31553468,\n",
       "        36.21067518,  93.53826728,  16.84789145,  10.71450816,\n",
       "         6.87664437,  28.0510975 ,   7.15482909,  23.09070544,\n",
       "        21.06873465,  66.74451522,  10.49288136,  14.95254547,\n",
       "        10.89613442,  53.37205956,   6.42309457,   4.37273379,\n",
       "       119.36134441,   9.82162206,  12.99680565,  43.67186944,\n",
       "        29.7205469 ,  15.75665683,  48.36247473,  19.35232848,\n",
       "         5.85094484,   9.05150284,  12.93815932,  41.16075245,\n",
       "        57.01762407,  20.68660033,  19.22153597,  13.17406425,\n",
       "        60.91211533,  88.79761598,  35.60732593,   3.50473103,\n",
       "        14.39038548,   9.55921451,  24.16081702,   7.87495721,\n",
       "        25.79112214,  36.99352312,  34.41448685,   9.95914333,\n",
       "        23.79322103,  29.28677887,  10.18861839,  14.95426193,\n",
       "        17.78855365,  17.21773403,  14.08898673,   5.98530211,\n",
       "        29.79083281,  15.27687765, 141.18872038,   8.39715274,\n",
       "         4.20945481,  69.62726316,  16.14883481,  67.15984718,\n",
       "        20.77711393,  24.40175755,  11.7627604 ,  23.19899632,\n",
       "         5.27611674,  23.66202348,   8.51394423,  38.94065269,\n",
       "         8.81642377,  33.6597522 ,  36.05328351,  62.47127125,\n",
       "         3.15785947,  41.80299174, 165.13974633,  51.23224622,\n",
       "         5.83044515,  85.20483998, 113.24113963,  24.30194637,\n",
       "        11.31912338,  15.99874381,  13.94389795,  28.58126393,\n",
       "        18.03406053, 541.71595887,   9.29742578, 137.8410711 ,\n",
       "        31.88383776,  25.282707  ,  23.70579131,  17.16998662,\n",
       "        16.91916196,  16.6533748 , 320.96083616,  18.92960894,\n",
       "        41.67191541,  20.83071566,  25.91349263,   2.00971679,\n",
       "         5.69399529, 139.97988311,  43.19126264,   4.44302839,\n",
       "         5.94186007,  78.00599816,   7.28381151,  34.19613222,\n",
       "        28.76718652,  26.69906732,  99.45171004,  60.92297315,\n",
       "        45.42311992,  12.86708526,   2.60304946,  15.71189542,\n",
       "        36.78895987,  14.93537693,  45.98893014,  13.03487317,\n",
       "        23.06997811,  49.84853972,  18.55051656,  10.17801702,\n",
       "        61.26054479,  19.96138166,   8.02282017,  63.1884862 ,\n",
       "        51.52170615,  11.41040426,  22.9821892 ,  36.00384352,\n",
       "         6.64149459,  10.51191691, 115.17733889,  20.38601315,\n",
       "        32.76438479,  23.07904273,   3.77643283,  41.32537397,\n",
       "        10.30410983,  49.6455996 ,  23.14909819,  89.76311731,\n",
       "        25.70282625,  23.74473519,  12.40204216,  37.57204229,\n",
       "        14.57407348,  21.38165408,  33.6297636 ,  50.07179446,\n",
       "         6.58552822,  55.56775116,  21.36687608,  41.83583607,\n",
       "         2.48226816,  68.76176269, 106.84843114,  17.25962504,\n",
       "        37.41928672,  43.61922806,  21.16254515,  22.52394296,\n",
       "         5.4188602 ,  22.64484387,  26.72868814,  46.08928326,\n",
       "       155.73541838,  12.71986123,  54.50251111,  47.77965266,\n",
       "         8.92124962,  44.8069812 ,  21.6834026 ,  19.54880982,\n",
       "        19.60975651,   5.00039153,  73.2851304 ,  18.85421632,\n",
       "        12.46583301,  21.41232151,  38.19204027,   2.75364975,\n",
       "        18.52246323,   8.11072442,  65.81056163,  15.91070044,\n",
       "        11.99570297,  13.71223261,  44.81593203,  14.21164743,\n",
       "        16.23779959,  34.31595374,  18.96525761,  19.63911334,\n",
       "         6.45117498,  31.83769036,  21.70783272,  13.95325412,\n",
       "        11.61790167,  16.83725362,  19.27945917,  73.03581267,\n",
       "        39.79409871,  10.74365458,   7.87649553,  25.14862863,\n",
       "         7.95798233,  23.86379454,  15.57864802,   2.68470563,\n",
       "         9.83176215,  18.6461649 ,  67.96888259,  32.27946919,\n",
       "        23.96301431,  33.4470821 ,  17.29027361,  47.91730202,\n",
       "        18.41774514,   9.44244131,   8.30983667,  38.47957069,\n",
       "        29.36129339, 344.97761472,   9.00649345,   8.88030941,\n",
       "       254.50354519,  53.3383502 ,  48.65325065, 129.14372832,\n",
       "         9.31731623,  31.16811794,  13.23814673,  35.45415624,\n",
       "         8.54689229,   9.68813626,  20.67499731,  15.77904909,\n",
       "        44.54432813,  15.0288347 ,   4.38899254,  48.23124845,\n",
       "        23.22276103,   6.74979037,  11.32537812,  19.60241269,\n",
       "        14.53740613,  20.90847312,  26.98510217,  32.61712943,\n",
       "         2.92249924,  36.77293969,  49.17954844,  17.36486381,\n",
       "       101.25084417,  27.46251034,  29.88038402,  41.1742116 ,\n",
       "       107.53769338, 170.88565354,  44.55922944,   5.76463439,\n",
       "         9.04278239,  33.68804573,  28.56360797,  30.45745577,\n",
       "        14.50158771,  17.04630787,   8.41156393,  17.99750335,\n",
       "        20.23422466,  38.30461429,   6.06486151,  23.05304468,\n",
       "        16.81348425,   5.74333139,   9.19263988,  35.47853672,\n",
       "        18.59665213,  14.62193094,  18.28520278,  21.91743417,\n",
       "        23.23514319,  30.78321307,   5.91013137,  13.60416684,\n",
       "        99.19814359,  68.84836626,  72.34100185,  18.55846979,\n",
       "        22.53883149,  44.29083173, 113.61837827,   3.23480819,\n",
       "        16.04354639,  10.30019844,  13.56853251,  26.73637787,\n",
       "        30.37030863,   7.43088574,   7.76869787,  15.90976656,\n",
       "         9.49035786,  32.81547647,  99.62130508,  22.92116436,\n",
       "         2.49100083,  10.30198312,  20.0210333 ,  29.65752901,\n",
       "        10.82579117,  26.30074068,  33.79316444,  44.52919574,\n",
       "         4.37290909, 155.18393654,  16.64921524,  15.11780029,\n",
       "        10.9424881 ,  63.54958996,  51.93349323,  14.0886156 ,\n",
       "        37.44497788,  57.74703966,  20.79617475,  14.01617975,\n",
       "        30.40122058,  36.02302011,  14.93916304,  33.41293481,\n",
       "         5.90922276,  23.43070094,   9.72079297,   9.64246792,\n",
       "        20.40757485,  17.6627383 ,  30.22928661,   5.16431126,\n",
       "        82.09617397,   3.79279708,   2.57246169,  20.24180407,\n",
       "        19.36354174,  18.31904028,  51.63585097,  18.74592573,\n",
       "        32.91415495,  54.30683506,  32.26478519,   8.90666334,\n",
       "        17.83857895,  19.49740028,  10.45444587,  41.66214466,\n",
       "         4.29082411,  64.73239395,  57.28639765,   7.86878053,\n",
       "        47.47006563,   5.43662404,  68.80862623,  25.7493106 ,\n",
       "         6.25096467,  22.39953833,  31.37203321,   5.60654762,\n",
       "        87.50349514,  21.49653244,   6.62541467,   1.98135622,\n",
       "         7.76815449,  74.46485261,  62.00686887,  21.70023416,\n",
       "         8.12397014,   2.16751462,  42.90167953,  22.23070356,\n",
       "        13.88731438,  14.82631999,  18.02224015,  16.69226109,\n",
       "        12.72815458,  10.42201402,  24.49832461,  12.35343528,\n",
       "        10.38562567,   7.34554288,  13.68952485,   8.52330342,\n",
       "        10.69317059,  35.45365875,  25.33078408,  74.23723976,\n",
       "        82.41562405,   5.8427504 ,  14.37446457, 102.54262951,\n",
       "        10.47100553,  86.04829385,  22.43350905,  19.96805836,\n",
       "        17.13966499,  60.71729335,  22.46832639,  18.41134243,\n",
       "         5.92579458,  15.64100114,  28.74614321,  47.82286225,\n",
       "        14.96221029,   7.22519642,  32.61890357,  24.42015663,\n",
       "         1.99698816,  25.70273535,  20.29904802,  31.17005866,\n",
       "        46.94859494,  62.21857001,   3.54669201,  34.06775708,\n",
       "        14.01193861,  44.7010692 ,  52.98878411,   5.55072475,\n",
       "         9.55912284,  78.92890751,  11.91233801,   4.85487782,\n",
       "        48.4264986 ,  18.03528891,  25.51063583,  59.72860943,\n",
       "        93.67676904,  39.77540408,  21.51735684,   4.56253471])"
      ]
     },
     "execution_count": 62,
     "metadata": {},
     "output_type": "execute_result"
    }
   ],
   "source": [
    "s1"
   ]
  },
  {
   "cell_type": "code",
   "execution_count": 63,
   "id": "5f913e7b",
   "metadata": {},
   "outputs": [
    {
     "data": {
      "text/plain": [
       "<AxesSubplot:ylabel='Count'>"
      ]
     },
     "execution_count": 63,
     "metadata": {},
     "output_type": "execute_result"
    },
    {
     "data": {
      "image/png": "[encoded data removed]",
      "text/plain": [
       "<Figure size 432x288 with 1 Axes>"
      ]
     },
     "metadata": {
      "needs_background": "light"
     },
     "output_type": "display_data"
    }
   ],
   "source": [
    "sns.histplot(s1, kde = True)"
   ]
  },
  {
   "cell_type": "code",
   "execution_count": 64,
   "id": "0ff8de3f",
   "metadata": {},
   "outputs": [
    {
     "data": {
      "text/plain": [
       "<AxesSubplot:ylabel='Count'>"
      ]
     },
     "execution_count": 64,
     "metadata": {},
     "output_type": "execute_result"
    },
    {
     "data": {
      "image/png": "[encoded data removed]",
      "text/plain": [
       "<Figure size 432x288 with 1 Axes>"
      ]
     },
     "metadata": {
      "needs_background": "light"
     },
     "output_type": "display_data"
    }
   ],
   "source": [
    "sns.histplot(np.log(s1),kde = True)"
   ]
  },
  {
   "cell_type": "code",
   "execution_count": 70,
   "id": "af42ede5",
   "metadata": {},
   "outputs": [],
   "source": [
    "def data_plot(sample):\n",
    "    plt.figure(figsize=(10,6))\n",
    "    plt.subplot(1,2,1)\n",
    "    sns.histplot(sample)\n",
    "    plt.subplot(1,2,2)\n",
    "    stat.probplot(sample, dist = 'norm',plot = pylab)\n",
    "    plt.show()\n",
    "    \n",
    "     \n",
    "    \n",
    "  \n",
    "\n",
    "    "
   ]
  },
  {
   "cell_type": "code",
   "execution_count": 71,
   "id": "bee6ac33",
   "metadata": {},
   "outputs": [
    {
     "data": {
      "image/png": "[encoded data removed]",
      "text/plain": [
       "<Figure size 720x432 with 2 Axes>"
      ]
     },
     "metadata": {
      "needs_background": "light"
     },
     "output_type": "display_data"
    }
   ],
   "source": [
    "s2 = np.random.normal(0.5,0.2,1000)\n",
    "data_plot(s2)"
   ]
  },
  {
   "cell_type": "code",
   "execution_count": null,
   "id": "632c5f33",
   "metadata": {},
   "outputs": [],
   "source": []
  },
  {
   "cell_type": "code",
   "execution_count": null,
   "id": "0e72cced",
   "metadata": {},
   "outputs": [],
   "source": []
  }
 ],
 "metadata": {
  "kernelspec": {
   "display_name": "Python 3 (ipykernel)",
   "language": "python",
   "name": "python3"
  },
  "language_info": {
   "codemirror_mode": {
    "name": "ipython",
    "version": 3
   },
   "file_extension": ".py",
   "mimetype": "text/x-python",
   "name": "python",
   "nbconvert_exporter": "python",
   "pygments_lexer": "ipython3",
   "version": "3.9.7"
  }
 },
 "nbformat": 4,
 "nbformat_minor": 5
}
